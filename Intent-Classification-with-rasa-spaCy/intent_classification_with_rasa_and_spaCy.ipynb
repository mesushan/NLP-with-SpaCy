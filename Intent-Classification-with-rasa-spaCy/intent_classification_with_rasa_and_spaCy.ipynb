{
 "cells": [
  {
   "cell_type": "code",
   "execution_count": 1,
   "metadata": {},
   "outputs": [
    {
     "name": "stdout",
     "output_type": "stream",
     "text": [
      "Requirement already satisfied: rasa_nlu[spacy] in /opt/conda/lib/python3.7/site-packages (0.15.1)\n",
      "Requirement already satisfied: ruamel.yaml~=0.15.7 in /opt/conda/lib/python3.7/site-packages (from rasa_nlu[spacy]) (0.15.100)\n",
      "Requirement already satisfied: coloredlogs~=10.0 in /opt/conda/lib/python3.7/site-packages (from rasa_nlu[spacy]) (10.0)\n",
      "Requirement already satisfied: tqdm~=4.19 in /opt/conda/lib/python3.7/site-packages (from rasa_nlu[spacy]) (4.41.1)\n",
      "Requirement already satisfied: klein~=17.10 in /opt/conda/lib/python3.7/site-packages (from rasa_nlu[spacy]) (17.10.0)\n",
      "Requirement already satisfied: jsonschema~=2.6 in /opt/conda/lib/python3.7/site-packages (from rasa_nlu[spacy]) (2.6.0)\n",
      "Requirement already satisfied: matplotlib~=2.2 in /opt/conda/lib/python3.7/site-packages (from rasa_nlu[spacy]) (2.2.5)\n",
      "Requirement already satisfied: gevent~=1.3 in /opt/conda/lib/python3.7/site-packages (from rasa_nlu[spacy]) (1.5.0)\n",
      "Requirement already satisfied: numpy>=1.16 in /opt/conda/lib/python3.7/site-packages (from rasa_nlu[spacy]) (1.17.3)\n",
      "Requirement already satisfied: requests~=2.20 in /opt/conda/lib/python3.7/site-packages (from rasa_nlu[spacy]) (2.22.0)\n",
      "Requirement already satisfied: typing~=3.6 in /opt/conda/lib/python3.7/site-packages (from rasa_nlu[spacy]) (3.7.4.1)\n",
      "Requirement already satisfied: future~=0.17.1 in /opt/conda/lib/python3.7/site-packages (from rasa_nlu[spacy]) (0.17.1)\n",
      "Requirement already satisfied: simplejson~=3.13 in /opt/conda/lib/python3.7/site-packages (from rasa_nlu[spacy]) (3.17.0)\n",
      "Requirement already satisfied: boto3~=1.9 in /opt/conda/lib/python3.7/site-packages (from rasa_nlu[spacy]) (1.12.39)\n",
      "Requirement already satisfied: scikit-learn~=0.20.2 in /opt/conda/lib/python3.7/site-packages (from rasa_nlu[spacy]) (0.20.4)\n",
      "Requirement already satisfied: packaging~=18.0 in /opt/conda/lib/python3.7/site-packages (from rasa_nlu[spacy]) (18.0)\n",
      "Requirement already satisfied: cloudpickle~=0.6.1 in /opt/conda/lib/python3.7/site-packages (from rasa_nlu[spacy]) (0.6.1)\n",
      "Requirement already satisfied: scipy~=1.2; extra == \"spacy\" in /opt/conda/lib/python3.7/site-packages (from rasa_nlu[spacy]) (1.3.3)\n",
      "Requirement already satisfied: spacy<=2.0.18,>2.0; extra == \"spacy\" in /opt/conda/lib/python3.7/site-packages (from rasa_nlu[spacy]) (2.0.18)\n",
      "Requirement already satisfied: sklearn-crfsuite~=0.3.6; extra == \"spacy\" in /opt/conda/lib/python3.7/site-packages (from rasa_nlu[spacy]) (0.3.6)\n",
      "Requirement already satisfied: humanfriendly>=4.7 in /opt/conda/lib/python3.7/site-packages (from coloredlogs~=10.0->rasa_nlu[spacy]) (8.1)\n",
      "Requirement already satisfied: werkzeug in /opt/conda/lib/python3.7/site-packages (from klein~=17.10->rasa_nlu[spacy]) (0.16.0)\n",
      "Requirement already satisfied: incremental in /opt/conda/lib/python3.7/site-packages (from klein~=17.10->rasa_nlu[spacy]) (17.5.0)\n",
      "Requirement already satisfied: Twisted>=15.5 in /opt/conda/lib/python3.7/site-packages (from klein~=17.10->rasa_nlu[spacy]) (20.3.0)\n",
      "Requirement already satisfied: six in /opt/conda/lib/python3.7/site-packages (from klein~=17.10->rasa_nlu[spacy]) (1.13.0)\n",
      "Requirement already satisfied: cycler>=0.10 in /opt/conda/lib/python3.7/site-packages (from matplotlib~=2.2->rasa_nlu[spacy]) (0.10.0)\n",
      "Requirement already satisfied: kiwisolver>=1.0.1 in /opt/conda/lib/python3.7/site-packages (from matplotlib~=2.2->rasa_nlu[spacy]) (1.1.0)\n",
      "Requirement already satisfied: python-dateutil>=2.1 in /opt/conda/lib/python3.7/site-packages (from matplotlib~=2.2->rasa_nlu[spacy]) (2.8.1)\n",
      "Requirement already satisfied: pytz in /opt/conda/lib/python3.7/site-packages (from matplotlib~=2.2->rasa_nlu[spacy]) (2019.3)\n",
      "Requirement already satisfied: pyparsing!=2.0.4,!=2.1.2,!=2.1.6,>=2.0.1 in /opt/conda/lib/python3.7/site-packages (from matplotlib~=2.2->rasa_nlu[spacy]) (2.4.5)\n",
      "Requirement already satisfied: greenlet>=0.4.14; platform_python_implementation == \"CPython\" in /opt/conda/lib/python3.7/site-packages (from gevent~=1.3->rasa_nlu[spacy]) (0.4.15)\n",
      "Requirement already satisfied: urllib3!=1.25.0,!=1.25.1,<1.26,>=1.21.1 in /opt/conda/lib/python3.7/site-packages (from requests~=2.20->rasa_nlu[spacy]) (1.25.7)\n",
      "Requirement already satisfied: chardet<3.1.0,>=3.0.2 in /opt/conda/lib/python3.7/site-packages (from requests~=2.20->rasa_nlu[spacy]) (3.0.4)\n",
      "Requirement already satisfied: certifi>=2017.4.17 in /opt/conda/lib/python3.7/site-packages (from requests~=2.20->rasa_nlu[spacy]) (2019.11.28)\n",
      "Requirement already satisfied: idna<2.9,>=2.5 in /opt/conda/lib/python3.7/site-packages (from requests~=2.20->rasa_nlu[spacy]) (2.8)\n",
      "Requirement already satisfied: botocore<1.16.0,>=1.15.39 in /opt/conda/lib/python3.7/site-packages (from boto3~=1.9->rasa_nlu[spacy]) (1.15.39)\n",
      "Requirement already satisfied: jmespath<1.0.0,>=0.7.1 in /opt/conda/lib/python3.7/site-packages (from boto3~=1.9->rasa_nlu[spacy]) (0.9.5)\n",
      "Requirement already satisfied: s3transfer<0.4.0,>=0.3.0 in /opt/conda/lib/python3.7/site-packages (from boto3~=1.9->rasa_nlu[spacy]) (0.3.3)\n",
      "Requirement already satisfied: murmurhash<1.1.0,>=0.28.0 in /opt/conda/lib/python3.7/site-packages (from spacy<=2.0.18,>2.0; extra == \"spacy\"->rasa_nlu[spacy]) (1.0.2)\n",
      "Requirement already satisfied: thinc<6.13.0,>=6.12.1 in /opt/conda/lib/python3.7/site-packages (from spacy<=2.0.18,>2.0; extra == \"spacy\"->rasa_nlu[spacy]) (6.12.1)\n",
      "Requirement already satisfied: dill<0.3,>=0.2 in /opt/conda/lib/python3.7/site-packages (from spacy<=2.0.18,>2.0; extra == \"spacy\"->rasa_nlu[spacy]) (0.2.9)\n",
      "Requirement already satisfied: cymem<2.1.0,>=2.0.2 in /opt/conda/lib/python3.7/site-packages (from spacy<=2.0.18,>2.0; extra == \"spacy\"->rasa_nlu[spacy]) (2.0.3)\n",
      "Requirement already satisfied: regex==2018.01.10 in /opt/conda/lib/python3.7/site-packages (from spacy<=2.0.18,>2.0; extra == \"spacy\"->rasa_nlu[spacy]) (2018.1.10)\n",
      "Requirement already satisfied: plac<1.0.0,>=0.9.6 in /opt/conda/lib/python3.7/site-packages (from spacy<=2.0.18,>2.0; extra == \"spacy\"->rasa_nlu[spacy]) (0.9.6)\n",
      "Requirement already satisfied: ujson>=1.35 in /opt/conda/lib/python3.7/site-packages (from spacy<=2.0.18,>2.0; extra == \"spacy\"->rasa_nlu[spacy]) (2.0.3)\n",
      "Requirement already satisfied: preshed<2.1.0,>=2.0.1 in /opt/conda/lib/python3.7/site-packages (from spacy<=2.0.18,>2.0; extra == \"spacy\"->rasa_nlu[spacy]) (2.0.1)\n",
      "Requirement already satisfied: python-crfsuite>=0.8.3 in /opt/conda/lib/python3.7/site-packages (from sklearn-crfsuite~=0.3.6; extra == \"spacy\"->rasa_nlu[spacy]) (0.9.7)\n",
      "Requirement already satisfied: tabulate in /opt/conda/lib/python3.7/site-packages (from sklearn-crfsuite~=0.3.6; extra == \"spacy\"->rasa_nlu[spacy]) (0.8.6)\n",
      "Requirement already satisfied: zope.interface>=4.4.2 in /opt/conda/lib/python3.7/site-packages (from Twisted>=15.5->klein~=17.10->rasa_nlu[spacy]) (5.1.0)\n",
      "Requirement already satisfied: hyperlink>=17.1.1 in /opt/conda/lib/python3.7/site-packages (from Twisted>=15.5->klein~=17.10->rasa_nlu[spacy]) (19.0.0)\n",
      "Requirement already satisfied: PyHamcrest!=1.10.0,>=1.9.0 in /opt/conda/lib/python3.7/site-packages (from Twisted>=15.5->klein~=17.10->rasa_nlu[spacy]) (2.0.2)\n",
      "Requirement already satisfied: Automat>=0.3.0 in /opt/conda/lib/python3.7/site-packages (from Twisted>=15.5->klein~=17.10->rasa_nlu[spacy]) (20.2.0)\n",
      "Requirement already satisfied: attrs>=19.2.0 in /opt/conda/lib/python3.7/site-packages (from Twisted>=15.5->klein~=17.10->rasa_nlu[spacy]) (19.3.0)\n",
      "Requirement already satisfied: constantly>=15.1 in /opt/conda/lib/python3.7/site-packages (from Twisted>=15.5->klein~=17.10->rasa_nlu[spacy]) (15.1.0)\n",
      "Requirement already satisfied: setuptools in /opt/conda/lib/python3.7/site-packages (from kiwisolver>=1.0.1->matplotlib~=2.2->rasa_nlu[spacy]) (42.0.2.post20191201)\n",
      "Requirement already satisfied: docutils<0.16,>=0.10 in /opt/conda/lib/python3.7/site-packages (from botocore<1.16.0,>=1.15.39->boto3~=1.9->rasa_nlu[spacy]) (0.15.2)\n",
      "Requirement already satisfied: msgpack-numpy<0.4.4 in /opt/conda/lib/python3.7/site-packages (from thinc<6.13.0,>=6.12.1->spacy<=2.0.18,>2.0; extra == \"spacy\"->rasa_nlu[spacy]) (0.4.3.2)\n",
      "Requirement already satisfied: msgpack<0.6.0,>=0.5.6 in /opt/conda/lib/python3.7/site-packages (from thinc<6.13.0,>=6.12.1->spacy<=2.0.18,>2.0; extra == \"spacy\"->rasa_nlu[spacy]) (0.5.6)\n",
      "Requirement already satisfied: cytoolz<0.10,>=0.9.0 in /opt/conda/lib/python3.7/site-packages (from thinc<6.13.0,>=6.12.1->spacy<=2.0.18,>2.0; extra == \"spacy\"->rasa_nlu[spacy]) (0.9.0.1)\n",
      "Requirement already satisfied: wrapt<1.11.0,>=1.10.0 in /opt/conda/lib/python3.7/site-packages (from thinc<6.13.0,>=6.12.1->spacy<=2.0.18,>2.0; extra == \"spacy\"->rasa_nlu[spacy]) (1.10.11)\n",
      "Requirement already satisfied: toolz>=0.8.0 in /opt/conda/lib/python3.7/site-packages (from cytoolz<0.10,>=0.9.0->thinc<6.13.0,>=6.12.1->spacy<=2.0.18,>2.0; extra == \"spacy\"->rasa_nlu[spacy]) (0.10.0)\n"
     ]
    }
   ],
   "source": [
    "#using spacy as backend\n",
    "#https://pypi.org/project/rasa-nlu/\n",
    "!pip install rasa_nlu[spacy]"
   ]
  },
  {
   "cell_type": "code",
   "execution_count": 2,
   "metadata": {},
   "outputs": [
    {
     "name": "stdout",
     "output_type": "stream",
     "text": [
      "Requirement already satisfied: en_core_web_md==2.0.0 from https://github.com/explosion/spacy-models/releases/download/en_core_web_md-2.0.0/en_core_web_md-2.0.0.tar.gz#egg=en_core_web_md==2.0.0 in /opt/conda/lib/python3.7/site-packages (2.0.0)\n",
      "\n",
      "\u001b[93m    Linking successful\u001b[0m\n",
      "    /opt/conda/lib/python3.7/site-packages/en_core_web_md -->\n",
      "    /opt/conda/lib/python3.7/site-packages/spacy/data/en_core_web_md\n",
      "\n",
      "    You can now load the model via spacy.load('en_core_web_md')\n",
      "\n"
     ]
    }
   ],
   "source": [
    "import sys\n",
    "!{sys.executable} -m spacy download en_core_web_md"
   ]
  },
  {
   "cell_type": "code",
   "execution_count": 3,
   "metadata": {},
   "outputs": [
    {
     "name": "stdout",
     "output_type": "stream",
     "text": [
      "\n",
      "\u001b[93m    Link 'en' already exists\u001b[0m\n",
      "    To overwrite an existing link, use the --force flag.\n",
      "\n"
     ]
    }
   ],
   "source": [
    "!{sys.executable} -m spacy link en_core_web_md en"
   ]
  },
  {
   "cell_type": "code",
   "execution_count": 4,
   "metadata": {},
   "outputs": [],
   "source": [
    "# Load the Packages\n",
    "from rasa_nlu.training_data  import load_data\n",
    "from rasa_nlu.config import RasaNLUModelConfig\n",
    "from rasa_nlu.model import Trainer\n",
    "from rasa_nlu import config"
   ]
  },
  {
   "cell_type": "code",
   "execution_count": 5,
   "metadata": {},
   "outputs": [
    {
     "name": "stdout",
     "output_type": "stream",
     "text": [
      "{\n",
      "  \"rasa_nlu_data\": {\n",
      "    \"regex_features\": [\n",
      "      {\n",
      "        \"name\": \"zipcode\",\n",
      "        \"pattern\": \"[0-9]{5}\"\n",
      "      },\n",
      "      {\n",
      "        \"name\": \"greet\",\n",
      "        \"pattern\": \"hey[^\\\\s]*\"\n",
      "      }\n",
      "    ],\n",
      "    \"entity_synonyms\": [\n",
      "      {\n",
      "        \"value\": \"chinese\",\n",
      "        \"synonyms\": [\"Chinese\", \"Chines\", \"chines\"]\n",
      "      },\n",
      "      {\n",
      "        \"value\": \"vegetarian\",\n",
      "        \"synonyms\": [\"veggie\", \"vegg\"]\n",
      "      }\n",
      "    ],\n",
      "    \"common_examples\": [\n",
      "      {\n",
      "        \"text\": \"hey\", \n",
      "        \"intent\": \"greet\", \n",
      "        \"entities\": []\n",
      "      }, \n",
      "      {\n",
      "        \"text\": \"howdy\", \n",
      "        \"intent\": \"greet\", \n",
      "        \"entities\": []\n",
      "      }, \n",
      "      {\n",
      "        \"text\": \"hey there\",\n",
      "        \"intent\": \"greet\", \n",
      "        \"entities\": []\n",
      "      }, \n",
      "      {\n",
      "        \"text\": \"hello\", \n",
      "        \"intent\": \"greet\", \n",
      "        \"entities\": []\n",
      "      }, \n",
      "      {\n",
      "        \"text\": \"hi\", \n",
      "        \"intent\": \"greet\", \n",
      "        \"entities\": []\n",
      "      },\n",
      "      {\n",
      "        \"text\": \"good morning\",\n",
      "        \"intent\": \"greet\",\n",
      "        \"entities\": []\n",
      "      },\n",
      "      {\n",
      "        \"text\": \"good evening\",\n",
      "        \"intent\": \"greet\",\n",
      "        \"entities\": []\n",
      "      },\n",
      "      {\n",
      "        \"text\": \"dear sir\",\n",
      "        \"intent\": \"greet\",\n",
      "        \"entities\": []\n",
      "      },\n",
      "      {\n",
      "        \"text\": \"yes\", \n",
      "        \"intent\": \"affirm\", \n",
      "        \"entities\": []\n",
      "      }, \n",
      "      {\n",
      "        \"text\": \"yep\", \n",
      "        \"intent\": \"affirm\", \n",
      "        \"entities\": []\n",
      "      }, \n",
      "      {\n",
      "        \"text\": \"yeah\", \n",
      "        \"intent\": \"affirm\", \n",
      "        \"entities\": []\n",
      "      },\n",
      "      {\n",
      "        \"text\": \"indeed\",\n",
      "        \"intent\": \"affirm\",\n",
      "        \"entities\": []\n",
      "      },\n",
      "      {\n",
      "        \"text\": \"that's right\",\n",
      "        \"intent\": \"affirm\",\n",
      "        \"entities\": []\n",
      "      },\n",
      "      {\n",
      "        \"text\": \"ok\",\n",
      "        \"intent\": \"affirm\",\n",
      "        \"entities\": []\n",
      "      },\n",
      "      {\n",
      "        \"text\": \"great\",\n",
      "        \"intent\": \"affirm\",\n",
      "        \"entities\": []\n",
      "      },\n",
      "      {\n",
      "        \"text\": \"right, thank you\",\n",
      "        \"intent\": \"affirm\",\n",
      "        \"entities\": []\n",
      "      },\n",
      "      {\n",
      "        \"text\": \"correct\",\n",
      "        \"intent\": \"affirm\",\n",
      "        \"entities\": []\n",
      "      },\n",
      "      {\n",
      "        \"text\": \"great choice\",\n",
      "        \"intent\": \"affirm\",\n",
      "        \"entities\": []\n",
      "      },\n",
      "      {\n",
      "        \"text\": \"sounds really good\",\n",
      "        \"intent\": \"affirm\",\n",
      "        \"entities\": []\n",
      "      },\n",
      "      {\n",
      "        \"text\": \"i'm looking for a place to eat\",\n",
      "        \"intent\": \"restaurant_search\",\n",
      "        \"entities\": []\n",
      "      },\n",
      "      {\n",
      "        \"text\": \"I want to grab lunch\",\n",
      "        \"intent\": \"restaurant_search\",\n",
      "        \"entities\": []\n",
      "      },\n",
      "      {\n",
      "        \"text\": \"I am searching for a dinner spot\",\n",
      "        \"intent\": \"restaurant_search\",\n",
      "        \"entities\": []\n",
      "      },\n",
      "      {\n",
      "        \"text\": \"i'm looking for a place in the north of town\",\n",
      "        \"intent\": \"restaurant_search\",\n",
      "        \"entities\": [\n",
      "          {\n",
      "            \"start\": 31,\n",
      "            \"end\": 36,\n",
      "            \"value\": \"north\",\n",
      "            \"entity\": \"location\"\n",
      "          }\n",
      "        ]\n",
      "      },\n",
      "      {\n",
      "        \"text\": \"show me chinese restaurants\",\n",
      "        \"intent\": \"restaurant_search\",\n",
      "        \"entities\": [\n",
      "          {\n",
      "            \"start\": 8,\n",
      "            \"end\": 15,\n",
      "            \"value\": \"chinese\",\n",
      "            \"entity\": \"cuisine\"\n",
      "          }\n",
      "        ]\n",
      "      },\n",
      "      {\n",
      "        \"text\": \"show me chines restaurants in the north\",\n",
      "        \"intent\": \"restaurant_search\",\n",
      "        \"entities\": [\n",
      "          {\n",
      "            \"start\": 8,\n",
      "            \"end\": 14,\n",
      "            \"value\": \"chinese\",\n",
      "            \"entity\": \"cuisine\"\n",
      "          },\n",
      "          {\n",
      "            \"start\": 34,\n",
      "            \"end\": 39,\n",
      "            \"value\": \"north\",\n",
      "            \"entity\": \"location\"\n",
      "          }\n",
      "        ]\n",
      "      },\n",
      "      {\n",
      "        \"text\": \"show me a mexican place in the centre\", \n",
      "        \"intent\": \"restaurant_search\", \n",
      "        \"entities\": [\n",
      "          {\n",
      "            \"start\": 31, \n",
      "            \"end\": 37, \n",
      "            \"value\": \"centre\", \n",
      "            \"entity\": \"location\"\n",
      "          }, \n",
      "          {\n",
      "            \"start\": 10, \n",
      "            \"end\": 17, \n",
      "            \"value\": \"mexican\", \n",
      "            \"entity\": \"cuisine\"\n",
      "          }\n",
      "        ]\n",
      "      },\n",
      "      {\n",
      "        \"text\": \"i am looking for an indian spot called olaolaolaolaolaola\",\n",
      "        \"intent\": \"restaurant_search\",\n",
      "        \"entities\": [\n",
      "          {\n",
      "            \"start\": 20,\n",
      "            \"end\": 26,\n",
      "            \"value\": \"indian\",\n",
      "            \"entity\": \"cuisine\"\n",
      "          }\n",
      "        ]\n",
      "      },     {\n",
      "        \"text\": \"search for restaurants\",\n",
      "        \"intent\": \"restaurant_search\",\n",
      "        \"entities\": []\n",
      "      },\n",
      "      {\n",
      "        \"text\": \"anywhere in the west\",\n",
      "        \"intent\": \"restaurant_search\",\n",
      "        \"entities\": [\n",
      "          {\n",
      "            \"start\": 16,\n",
      "            \"end\": 20,\n",
      "            \"value\": \"west\",\n",
      "            \"entity\": \"location\"\n",
      "          }\n",
      "        ]\n",
      "      },\n",
      "      {\n",
      "        \"text\": \"anywhere near 18328\",\n",
      "        \"intent\": \"restaurant_search\",\n",
      "        \"entities\": [\n",
      "          {\n",
      "            \"start\": 14,\n",
      "            \"end\": 19,\n",
      "            \"value\": \"18328\",\n",
      "            \"entity\": \"location\"\n",
      "          }\n",
      "        ]\n",
      "      },\n",
      "      {\n",
      "        \"text\": \"I am looking for asian fusion food\",\n",
      "        \"intent\": \"restaurant_search\",\n",
      "        \"entities\": [\n",
      "          {\n",
      "            \"start\": 17,\n",
      "            \"end\": 29,\n",
      "            \"value\": \"asian fusion\",\n",
      "            \"entity\": \"cuisine\"\n",
      "          }\n",
      "        ]\n",
      "      },\n",
      "      {\n",
      "        \"text\": \"I am looking a restaurant in 29432\",\n",
      "        \"intent\": \"restaurant_search\",\n",
      "        \"entities\": [\n",
      "          {\n",
      "            \"start\": 29,\n",
      "            \"end\": 34,\n",
      "            \"value\": \"29432\",\n",
      "            \"entity\": \"location\"\n",
      "          }\n",
      "        ]\n",
      "      },\n",
      "      {\n",
      "        \"text\": \"I am looking for mexican indian fusion\",\n",
      "        \"intent\": \"restaurant_search\",\n",
      "        \"entities\": [\n",
      "          {\n",
      "            \"start\": 17,\n",
      "            \"end\": 38,\n",
      "            \"value\": \"mexican indian fusion\",\n",
      "            \"entity\": \"cuisine\"\n",
      "          }\n",
      "        ]\n",
      "      },\n",
      "      {\n",
      "        \"text\": \"central indian restaurant\",\n",
      "        \"intent\": \"restaurant_search\",\n",
      "        \"entities\": [\n",
      "          {\n",
      "            \"start\": 0,\n",
      "            \"end\": 7,\n",
      "            \"value\": \"central\",\n",
      "            \"entity\": \"location\"\n",
      "          },\n",
      "          {\n",
      "            \"start\": 8,\n",
      "            \"end\": 14,\n",
      "            \"value\": \"indian\",\n",
      "            \"entity\": \"cuisine\"\n",
      "          }\n",
      "        ]\n",
      "      },\n",
      "      {\n",
      "        \"text\": \"bye\", \n",
      "        \"intent\": \"goodbye\", \n",
      "        \"entities\": []\n",
      "      }, \n",
      "      {\n",
      "        \"text\": \"goodbye\", \n",
      "        \"intent\": \"goodbye\", \n",
      "        \"entities\": []\n",
      "      }, \n",
      "      {\n",
      "        \"text\": \"good bye\", \n",
      "        \"intent\": \"goodbye\", \n",
      "        \"entities\": []\n",
      "      }, \n",
      "      {\n",
      "        \"text\": \"stop\", \n",
      "        \"intent\": \"goodbye\", \n",
      "        \"entities\": []\n",
      "      }, \n",
      "      {\n",
      "        \"text\": \"end\", \n",
      "        \"intent\": \"goodbye\", \n",
      "        \"entities\": []\n",
      "      },\n",
      "      {\n",
      "        \"text\": \"farewell\",\n",
      "        \"intent\": \"goodbye\",\n",
      "        \"entities\": []\n",
      "      },\n",
      "      {\n",
      "        \"text\": \"Bye bye\",\n",
      "        \"intent\": \"goodbye\",\n",
      "        \"entities\": []\n",
      "      },\n",
      "      {\n",
      "        \"text\": \"have a good one\",\n",
      "        \"intent\": \"goodbye\",\n",
      "        \"entities\": []\n",
      "      }\n",
      "    ]\n",
      "  }\n",
      "}\n"
     ]
    }
   ],
   "source": [
    "# view data\n",
    "!cat rasa_dataset.json"
   ]
  },
  {
   "cell_type": "code",
   "execution_count": 6,
   "metadata": {},
   "outputs": [],
   "source": [
    "#load the dataset\n",
    "train_data = load_data('rasa_dataset.json')"
   ]
  },
  {
   "cell_type": "code",
   "execution_count": 7,
   "metadata": {},
   "outputs": [],
   "source": [
    "# Config Backend using Sklearn and Spacy\n",
    "trainer = Trainer(config.load(\"config_spacy.yaml\"))"
   ]
  },
  {
   "cell_type": "code",
   "execution_count": 8,
   "metadata": {},
   "outputs": [
    {
     "name": "stdout",
     "output_type": "stream",
     "text": [
      "Fitting 2 folds for each of 6 candidates, totalling 12 fits\n"
     ]
    },
    {
     "name": "stderr",
     "output_type": "stream",
     "text": [
      "[Parallel(n_jobs=1)]: Using backend SequentialBackend with 1 concurrent workers.\n",
      "[Parallel(n_jobs=1)]: Done  12 out of  12 | elapsed:    0.1s finished\n"
     ]
    },
    {
     "data": {
      "text/plain": [
       "<rasa_nlu.model.Interpreter at 0x7f296967ea58>"
      ]
     },
     "execution_count": 8,
     "metadata": {},
     "output_type": "execute_result"
    }
   ],
   "source": [
    "#training data\n",
    "trainer.train(train_data)"
   ]
  },
  {
   "cell_type": "code",
   "execution_count": 9,
   "metadata": {},
   "outputs": [],
   "source": [
    "# Returns the directory the model is stored in (inside projects)\n",
    "model_directory = trainer.persist('projects/')"
   ]
  },
  {
   "cell_type": "markdown",
   "metadata": {},
   "source": [
    "### Before going to the model prediction with rasa nlu, lets see how it works in Spacy"
   ]
  },
  {
   "cell_type": "code",
   "execution_count": 10,
   "metadata": {},
   "outputs": [],
   "source": [
    "import spacy\n",
    "nlp = spacy.load('en')"
   ]
  },
  {
   "cell_type": "code",
   "execution_count": 11,
   "metadata": {},
   "outputs": [],
   "source": [
    "document = nlp(u\"I am looking for a Finnish restaurant in the center of town\")"
   ]
  },
  {
   "cell_type": "code",
   "execution_count": 12,
   "metadata": {},
   "outputs": [
    {
     "name": "stdout",
     "output_type": "stream",
     "text": [
      "value Finnish entity NORP start 19 end 26\n"
     ]
    }
   ],
   "source": [
    "for word in document.ents:\n",
    "    print(\"value\",word.text,\"entity\",word.label_,\"start\",word.start_char,\"end\",word.end_char)"
   ]
  },
  {
   "cell_type": "code",
   "execution_count": 13,
   "metadata": {},
   "outputs": [
    {
     "data": {
      "text/plain": [
       "'Nationalities or religious or political groups'"
      ]
     },
     "execution_count": 13,
     "metadata": {},
     "output_type": "execute_result"
    }
   ],
   "source": [
    "spacy.explain('NORP')"
   ]
  },
  {
   "cell_type": "markdown",
   "metadata": {},
   "source": [
    "### Making prediction with model"
   ]
  },
  {
   "cell_type": "code",
   "execution_count": 14,
   "metadata": {},
   "outputs": [],
   "source": [
    "from rasa_nlu.model import Metadata, Interpreter"
   ]
  },
  {
   "cell_type": "code",
   "execution_count": 15,
   "metadata": {},
   "outputs": [],
   "source": [
    "#loading the model\n",
    "# model_directory points to the folder the model is present\n",
    "interpreter = Interpreter.load(model_directory)"
   ]
  },
  {
   "cell_type": "code",
   "execution_count": 16,
   "metadata": {},
   "outputs": [
    {
     "data": {
      "text/plain": [
       "{'intent': {'name': 'restaurant_search', 'confidence': 0.7470537828630842},\n",
       " 'entities': [],\n",
       " 'intent_ranking': [{'name': 'restaurant_search',\n",
       "   'confidence': 0.7470537828630842},\n",
       "  {'name': 'goodbye', 'confidence': 0.15190494620620407},\n",
       "  {'name': 'affirm', 'confidence': 0.051965765552677394},\n",
       "  {'name': 'greet', 'confidence': 0.049075505378034415}],\n",
       " 'text': 'I am looking for a Finnish restaurant in the center of town'}"
      ]
     },
     "execution_count": 16,
     "metadata": {},
     "output_type": "execute_result"
    }
   ],
   "source": [
    "#Prediction of the intent\n",
    "interpreter.parse(u\"I am looking for a Finnish restaurant in the center of town\")"
   ]
  },
  {
   "cell_type": "code",
   "execution_count": 17,
   "metadata": {},
   "outputs": [
    {
     "data": {
      "text/plain": [
       "{'intent': {'name': 'restaurant_search', 'confidence': 0.6984222685518969},\n",
       " 'entities': [],\n",
       " 'intent_ranking': [{'name': 'restaurant_search',\n",
       "   'confidence': 0.6984222685518969},\n",
       "  {'name': 'goodbye', 'confidence': 0.18938850298467455},\n",
       "  {'name': 'greet', 'confidence': 0.0581335996817117},\n",
       "  {'name': 'affirm', 'confidence': 0.05405562878171704}],\n",
       " 'text': 'I want an Nepalese Spot to eat'}"
      ]
     },
     "execution_count": 17,
     "metadata": {},
     "output_type": "execute_result"
    }
   ],
   "source": [
    "interpreter.parse(u\"I want an Nepalese Spot to eat\")"
   ]
  },
  {
   "cell_type": "code",
   "execution_count": 18,
   "metadata": {},
   "outputs": [
    {
     "data": {
      "text/plain": [
       "{'intent': {'name': 'affirm', 'confidence': 0.44722502119386587},\n",
       " 'entities': [],\n",
       " 'intent_ranking': [{'name': 'affirm', 'confidence': 0.44722502119386587},\n",
       "  {'name': 'greet', 'confidence': 0.2541951211318638},\n",
       "  {'name': 'goodbye', 'confidence': 0.15500171775201005},\n",
       "  {'name': 'restaurant_search', 'confidence': 0.1435781399222602}],\n",
       " 'text': 'Hello Awesome People'}"
      ]
     },
     "execution_count": 18,
     "metadata": {},
     "output_type": "execute_result"
    }
   ],
   "source": [
    "interpreter.parse(u\"Hello Awesome People\")"
   ]
  },
  {
   "cell_type": "markdown",
   "metadata": {},
   "source": [
    "#### We can see that the model predicts the intent according to the input given to it"
   ]
  }
 ],
 "metadata": {
  "kernelspec": {
   "display_name": "Python 3",
   "language": "python",
   "name": "python3"
  },
  "language_info": {
   "codemirror_mode": {
    "name": "ipython",
    "version": 3
   },
   "file_extension": ".py",
   "mimetype": "text/x-python",
   "name": "python",
   "nbconvert_exporter": "python",
   "pygments_lexer": "ipython3",
   "version": "3.7.3"
  }
 },
 "nbformat": 4,
 "nbformat_minor": 4
}
